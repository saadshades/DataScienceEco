{
 "cells": [
  {
   "cell_type": "markdown",
   "id": "a4e0243e-e5b4-4bef-b013-acc60ee933bd",
   "metadata": {},
   "source": [
    "# Data Science Tools and Ecosystems"
   ]
  },
  {
   "cell_type": "markdown",
   "id": "ff007ede-0738-40ac-a587-f7ea9caee82c",
   "metadata": {},
   "source": [
    "In this notebook, Data Science Tools and Ecosystems are summarized."
   ]
  },
  {
   "cell_type": "markdown",
   "id": "c4190940-c637-4432-9719-b1cf7a02546b",
   "metadata": {},
   "source": [
    "**Objectives:**\n",
    "- To list popular languages for Data Scientists\n",
    "- To list commonly used libraries that are used by Data Scientists\n",
    "- To create a table listing popular Data Science tools\n",
    "- To evaluate arithmetic expressions and insert relevant comments"
   ]
  },
  {
   "cell_type": "markdown",
   "id": "b4a7b1b3-c36c-4cca-9cd0-31bbf6bf30fe",
   "metadata": {},
   "source": [
    "Some of the popular languages that Data Scientists use are:\n",
    "1. Python\n",
    "2. R\n",
    "3. Java"
   ]
  },
  {
   "cell_type": "markdown",
   "id": "7ebd19bf-08b1-46e3-bc35-b492e33e6797",
   "metadata": {},
   "source": [
    "Some of the commonly used libraries used by Data Scientists include:\n",
    "1. Numpy\n",
    "2. Pandas\n",
    "3. Matplotlib"
   ]
  },
  {
   "cell_type": "markdown",
   "id": "a3c5d460-a0dd-4e0e-b2a1-55aff683d90e",
   "metadata": {},
   "source": [
    "| Data Science Tools|\n",
    "|---|\n",
    "| Jupyter |\n",
    "| RStudio |\n",
    "| Spyder |"
   ]
  },
  {
   "cell_type": "markdown",
   "id": "74904b62-e526-43c5-8973-0ca14dba0a7d",
   "metadata": {},
   "source": [
    "### Below are a few examples of evaluating arithmetic expressions in python."
   ]
  },
  {
   "cell_type": "code",
   "execution_count": 6,
   "id": "3023f682-bd19-4630-b725-bf7fb2e0e20c",
   "metadata": {},
   "outputs": [
    {
     "data": {
      "text/plain": [
       "17"
      ]
     },
     "execution_count": 6,
     "metadata": {},
     "output_type": "execute_result"
    }
   ],
   "source": [
    "#This is a simple arithmetic expression to multiply then add integers.\n",
    "(3*4)+5"
   ]
  },
  {
   "cell_type": "code",
   "execution_count": 9,
   "id": "4ceef852-d146-4c0c-bace-61c7bc009818",
   "metadata": {},
   "outputs": [
    {
     "name": "stdout",
     "output_type": "stream",
     "text": [
      "3.3333333333333335\n"
     ]
    }
   ],
   "source": [
    "#This will convert 200 minutes to hours by dividing by 60.\n",
    "hours=200/60\n",
    "print(hours)"
   ]
  },
  {
   "cell_type": "markdown",
   "id": "03f61858-ee20-4e90-b286-d9849f41ba7b",
   "metadata": {},
   "source": [
    "## Author\n",
    "Sa'ad Kari"
   ]
  }
 ],
 "metadata": {
  "kernelspec": {
   "display_name": "Python 3 (ipykernel)",
   "language": "python",
   "name": "python3"
  },
  "language_info": {
   "codemirror_mode": {
    "name": "ipython",
    "version": 3
   },
   "file_extension": ".py",
   "mimetype": "text/x-python",
   "name": "python",
   "nbconvert_exporter": "python",
   "pygments_lexer": "ipython3",
   "version": "3.11.9"
  }
 },
 "nbformat": 4,
 "nbformat_minor": 5
}
